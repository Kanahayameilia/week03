{
  "nbformat": 4,
  "nbformat_minor": 0,
  "metadata": {
    "colab": {
      "provenance": []
    },
    "kernelspec": {
      "name": "python3",
      "display_name": "Python 3"
    },
    "language_info": {
      "name": "python"
    }
  },
  "cells": [
    {
      "cell_type": "code",
      "execution_count": null,
      "metadata": {
        "colab": {
          "base_uri": "https://localhost:8080/"
        },
        "id": "IHh5t-rMNFoJ",
        "outputId": "44328834-081c-4a01-a328-8cba4966f41e"
      },
      "outputs": [
        {
          "output_type": "stream",
          "name": "stdout",
          "text": [
            "Value dari x adalah 23 dan y 33\n"
          ]
        }
      ],
      "source": [
        "x = 23\n",
        "y = 33\n",
        "print('Value dari x adalah {} dan y {}'.format(x,y))"
      ]
    },
    {
      "cell_type": "code",
      "source": [
        "num = input('Enter a number: ')\n",
        "\n",
        "print('You Entered:', num)\n",
        "\n",
        "print('Data type of num:', type(num))"
      ],
      "metadata": {
        "colab": {
          "base_uri": "https://localhost:8080/"
        },
        "id": "lOsa9Rp_TYHc",
        "outputId": "458e78b7-0f5c-4086-ccfc-f6a6a55a4bfc"
      },
      "execution_count": null,
      "outputs": [
        {
          "output_type": "stream",
          "name": "stdout",
          "text": [
            "Enter a number: jkjkjkjk\n",
            "You Entered: jkjkjkjk\n",
            "Data type of num: <class 'str'>\n"
          ]
        }
      ]
    },
    {
      "cell_type": "code",
      "source": [
        "!pip install wget"
      ],
      "metadata": {
        "colab": {
          "base_uri": "https://localhost:8080/"
        },
        "id": "eZ2INXNgTj3b",
        "outputId": "a600a73d-8558-42d9-f1df-002dd709b6cc"
      },
      "execution_count": null,
      "outputs": [
        {
          "output_type": "stream",
          "name": "stdout",
          "text": [
            "Collecting wget\n",
            "  Downloading wget-3.2.zip (10 kB)\n",
            "  Preparing metadata (setup.py) ... \u001b[?25l\u001b[?25hdone\n",
            "Building wheels for collected packages: wget\n",
            "  Building wheel for wget (setup.py) ... \u001b[?25l\u001b[?25hdone\n",
            "  Created wheel for wget: filename=wget-3.2-py3-none-any.whl size=9656 sha256=9dcdb3f068d24a825ccc1f6496e10cb6c97adad7cee52f62614ed785cd0dd0ab\n",
            "  Stored in directory: /root/.cache/pip/wheels/8b/f1/7f/5c94f0a7a505ca1c81cd1d9208ae2064675d97582078e6c769\n",
            "Successfully built wget\n",
            "Installing collected packages: wget\n",
            "Successfully installed wget-3.2\n"
          ]
        }
      ]
    },
    {
      "cell_type": "code",
      "source": [
        "# Download Example file\n",
        "!mkdir -p /resources/data\n",
        "!wget -O /resources/data/Example1.txt https://s3-api.us-geo.objectstorage.softlayer.net/cf-courses-data/CognitiveClass/PY0101EN/labs/example1.txt"
      ],
      "metadata": {
        "colab": {
          "base_uri": "https://localhost:8080/"
        },
        "id": "QPIb_wl2ULr7",
        "outputId": "d3e362e3-c284-4386-86be-b743a29c2aed"
      },
      "execution_count": null,
      "outputs": [
        {
          "output_type": "stream",
          "name": "stdout",
          "text": [
            "--2024-09-06 03:25:44--  https://s3-api.us-geo.objectstorage.softlayer.net/cf-courses-data/CognitiveClass/PY0101EN/labs/example1.txt\n",
            "Resolving s3-api.us-geo.objectstorage.softlayer.net (s3-api.us-geo.objectstorage.softlayer.net)... 67.228.254.196\n",
            "Connecting to s3-api.us-geo.objectstorage.softlayer.net (s3-api.us-geo.objectstorage.softlayer.net)|67.228.254.196|:443... connected.\n",
            "HTTP request sent, awaiting response... 200 OK\n",
            "Length: 45 [text/plain]\n",
            "Saving to: ‘/resources/data/Example1.txt’\n",
            "\n",
            "/resources/data/Exa 100%[===================>]      45  --.-KB/s    in 0s      \n",
            "\n",
            "2024-09-06 03:25:44 (17.2 MB/s) - ‘/resources/data/Example1.txt’ saved [45/45]\n",
            "\n"
          ]
        }
      ]
    },
    {
      "cell_type": "code",
      "source": [
        "contoh = \"/resources/data/Example1.txt\"\n",
        "congtoh = open(contoh, \"r\")"
      ],
      "metadata": {
        "id": "BiIF4NQvXxbL"
      },
      "execution_count": null,
      "outputs": []
    },
    {
      "cell_type": "code",
      "source": [
        "congtoh.name"
      ],
      "metadata": {
        "colab": {
          "base_uri": "https://localhost:8080/",
          "height": 35
        },
        "id": "3hqVwvmHYOzr",
        "outputId": "b34f1016-d461-4c06-9db7-e545f45b24c2"
      },
      "execution_count": null,
      "outputs": [
        {
          "output_type": "execute_result",
          "data": {
            "text/plain": [
              "'/resources/data/Example1.txt'"
            ],
            "application/vnd.google.colaboratory.intrinsic+json": {
              "type": "string"
            }
          },
          "metadata": {},
          "execution_count": 17
        }
      ]
    },
    {
      "cell_type": "code",
      "source": [
        "congtoh.mode"
      ],
      "metadata": {
        "colab": {
          "base_uri": "https://localhost:8080/",
          "height": 35
        },
        "id": "a4H_Oza9ZBCb",
        "outputId": "d9899481-2788-4920-bdde-57e6ce760f26"
      },
      "execution_count": null,
      "outputs": [
        {
          "output_type": "execute_result",
          "data": {
            "text/plain": [
              "'r'"
            ],
            "application/vnd.google.colaboratory.intrinsic+json": {
              "type": "string"
            }
          },
          "metadata": {},
          "execution_count": 18
        }
      ]
    },
    {
      "cell_type": "code",
      "source": [
        "FileContent = congtoh.read()\n",
        "FileContent"
      ],
      "metadata": {
        "colab": {
          "base_uri": "https://localhost:8080/",
          "height": 35
        },
        "id": "zkJX_thVZSNL",
        "outputId": "00306695-5bb3-493b-b231-914d6a397ed0"
      },
      "execution_count": null,
      "outputs": [
        {
          "output_type": "execute_result",
          "data": {
            "text/plain": [
              "'This is line 1 \\nThis is line 2\\nThis is line 3'"
            ],
            "application/vnd.google.colaboratory.intrinsic+json": {
              "type": "string"
            }
          },
          "metadata": {},
          "execution_count": 19
        }
      ]
    },
    {
      "cell_type": "code",
      "source": [
        "print(FileContent)"
      ],
      "metadata": {
        "colab": {
          "base_uri": "https://localhost:8080/"
        },
        "id": "WQZYTVxPZaCL",
        "outputId": "5b628031-acca-4269-8753-668ea98747b1"
      },
      "execution_count": null,
      "outputs": [
        {
          "output_type": "stream",
          "name": "stdout",
          "text": [
            "This is line 1 \n",
            "This is line 2\n",
            "This is line 3\n"
          ]
        }
      ]
    },
    {
      "cell_type": "code",
      "source": [
        "type(FileContent)"
      ],
      "metadata": {
        "colab": {
          "base_uri": "https://localhost:8080/"
        },
        "id": "CWXMbhotZeXT",
        "outputId": "5af13d1b-8d3a-49a6-9674-a551584ac478"
      },
      "execution_count": null,
      "outputs": [
        {
          "output_type": "execute_result",
          "data": {
            "text/plain": [
              "str"
            ]
          },
          "metadata": {},
          "execution_count": 21
        }
      ]
    },
    {
      "cell_type": "code",
      "source": [
        "congtoh.close()"
      ],
      "metadata": {
        "id": "xCqo7bN0ZkjD"
      },
      "execution_count": null,
      "outputs": []
    },
    {
      "cell_type": "code",
      "source": [
        "contoh = \"/resources/data/anaya.txt\"\n",
        "congtoh = open(contoh, \"r\")"
      ],
      "metadata": {
        "id": "xBeES2ijZ0Pr"
      },
      "execution_count": null,
      "outputs": []
    },
    {
      "cell_type": "code",
      "source": [
        "with open(contoh, \"r\") as File1:\n",
        "    FileContent = File1.read()\n",
        "    print(FileContent)"
      ],
      "metadata": {
        "colab": {
          "base_uri": "https://localhost:8080/"
        },
        "id": "Mt45aRjkZq_T",
        "outputId": "49beb7e8-9eb1-4ba7-b144-1471eeaf92fb"
      },
      "execution_count": null,
      "outputs": [
        {
          "output_type": "stream",
          "name": "stdout",
          "text": [
            "This is line 1 \n",
            "This is line 2\n",
            "This is line 3\n"
          ]
        }
      ]
    },
    {
      "cell_type": "code",
      "source": [
        "File1.closed"
      ],
      "metadata": {
        "colab": {
          "base_uri": "https://localhost:8080/"
        },
        "id": "7cbX9SvmaBKr",
        "outputId": "bbe4593c-db35-4aa8-91ee-dbd4a3db9d79"
      },
      "execution_count": null,
      "outputs": [
        {
          "output_type": "execute_result",
          "data": {
            "text/plain": [
              "True"
            ]
          },
          "metadata": {},
          "execution_count": 27
        }
      ]
    },
    {
      "cell_type": "code",
      "source": [
        "print(FileContent)"
      ],
      "metadata": {
        "colab": {
          "base_uri": "https://localhost:8080/"
        },
        "id": "qBM1f2mgaEUz",
        "outputId": "0d1f0a97-6b7f-4435-8f07-9a8419650768"
      },
      "execution_count": null,
      "outputs": [
        {
          "output_type": "stream",
          "name": "stdout",
          "text": [
            "This is line 1 \n",
            "This is line 2\n",
            "This is line 3\n"
          ]
        }
      ]
    },
    {
      "cell_type": "code",
      "source": [
        "!mkdir -p /resources/data"
      ],
      "metadata": {
        "id": "aYm006RRanMj"
      },
      "execution_count": null,
      "outputs": []
    },
    {
      "cell_type": "code",
      "source": [
        "with open('anaya.txt', 'w') as writefile:\n",
        "    writefile.write(\"Nama\t        : Kanahaya Meilia Sakti\\n\")\n",
        "    writefile.write(\"Program Studi\t: S1 Teknologi Informasi\\n\")\n",
        "    writefile.write(\"NPM\t      \t: 2420506021\\n\")\n",
        "    writefile.write(\"Alamat\t      \t: Kost Rumah Anggrek, Cemara 7 Jl. Buton gg Anggrek 5, Kedungsari\\n\")\n",
        "    writefile.write(\"Hobi\t        : Cosplay, Menangis, dan Deniying\\n\")\n",
        "    writefile.write(\"Email\t      \t: Kanahayameiliea@gmail.com\\n\")"
      ],
      "metadata": {
        "id": "QAoG0Q8Rar7z"
      },
      "execution_count": 8,
      "outputs": []
    },
    {
      "cell_type": "code",
      "source": [
        "with open('anaya.txt', 'r') as testwritefile:\n",
        "    print(testwritefile.read())"
      ],
      "metadata": {
        "colab": {
          "base_uri": "https://localhost:8080/"
        },
        "id": "AD9FVOona9jj",
        "outputId": "99b2cb1a-6211-4e45-bbbd-c35c9787da4b"
      },
      "execution_count": 9,
      "outputs": [
        {
          "output_type": "stream",
          "name": "stdout",
          "text": [
            "Nama\t        : Kanahaya Meilia Sakti\n",
            "Program Studi\t: S1 Teknologi Informasi\n",
            "NPM\t      \t: 2420506021\n",
            "Alamat\t      \t: Kost Rumah Anggrek, Cemara 7 Jl. Buton gg Anggrek 5, Kedungsari\n",
            "Hobi\t        : Cosplay, Menangis, dan Deniying\n",
            "Email\t      \t: Kanahayameiliea@gmail.com\n",
            "\n"
          ]
        }
      ]
    },
    {
      "cell_type": "code",
      "source": [
        "with open('anaya.txt',\"r\") as file1:\n",
        "        i = 0;\n",
        "        for line in file1:\n",
        "            print(\"Iteration\", str(i), \": \", line)\n",
        "            i = i + 1;"
      ],
      "metadata": {
        "colab": {
          "base_uri": "https://localhost:8080/"
        },
        "id": "ppUcnxVHedOz",
        "outputId": "85b5f4f3-9240-414f-9c56-dbb917523922"
      },
      "execution_count": 11,
      "outputs": [
        {
          "output_type": "stream",
          "name": "stdout",
          "text": [
            "Iteration 0 :  Nama\t        : Kanahaya Meilia Sakti\n",
            "\n",
            "Iteration 1 :  Program Studi\t: S1 Teknologi Informasi\n",
            "\n",
            "Iteration 2 :  NPM\t      \t: 2420506021\n",
            "\n",
            "Iteration 3 :  Alamat\t      \t: Kost Rumah Anggrek, Cemara 7 Jl. Buton gg Anggrek 5, Kedungsari\n",
            "\n",
            "Iteration 4 :  Hobi\t        : Cosplay, Menangis, dan Deniying\n",
            "\n",
            "Iteration 5 :  Email\t      \t: Kanahayameiliea@gmail.com\n",
            "\n"
          ]
        }
      ]
    },
    {
      "cell_type": "code",
      "source": [
        "with open('anaya.txt', \"r\") as file1:\n",
        "    FileasList = file1.readlines()\n",
        "    print (FileasList[0])\n",
        "    print (FileasList[1])\n",
        "    print (FileasList[5])"
      ],
      "metadata": {
        "colab": {
          "base_uri": "https://localhost:8080/"
        },
        "id": "57PVHX77MV7z",
        "outputId": "0a7739b5-276f-48d1-ff00-c38bfd3c9319"
      },
      "execution_count": 19,
      "outputs": [
        {
          "output_type": "stream",
          "name": "stdout",
          "text": [
            "Nama\t        : Kanahaya Meilia Sakti\n",
            "\n",
            "Program Studi\t: S1 Teknologi Informasi\n",
            "\n",
            "Email\t      \t: Kanahayameiliea@gmail.com\n",
            "\n"
          ]
        }
      ]
    },
    {
      "cell_type": "markdown",
      "source": [],
      "metadata": {
        "id": "kLxC7hXOe25n"
      }
    },
    {
      "cell_type": "code",
      "source": [
        "with open('anaya.txt', 'r') as readfile:\n",
        "    with open('anaya2.txt', 'w') as writefile:\n",
        "        for line in readfile:\n",
        "            if \"Hobi\" not in line and \"Email\" not in line:\n",
        "                writefile.write(line)"
      ],
      "metadata": {
        "id": "KY3NYU0xe2ZQ"
      },
      "execution_count": 22,
      "outputs": []
    },
    {
      "cell_type": "code",
      "source": [
        "with open('anaya2.txt','r') as testwritefile:\n",
        "    print(testwritefile.read())"
      ],
      "metadata": {
        "colab": {
          "base_uri": "https://localhost:8080/"
        },
        "id": "4q7S5IFPfLKs",
        "outputId": "578c9bde-9f29-4ce4-8604-51ed292745bf"
      },
      "execution_count": 23,
      "outputs": [
        {
          "output_type": "stream",
          "name": "stdout",
          "text": [
            "Nama\t        : Kanahaya Meilia Sakti\n",
            "Program Studi\t: S1 Teknologi Informasi\n",
            "NPM\t      \t: 2420506021\n",
            "Alamat\t      \t: Kost Rumah Anggrek, Cemara 7 Jl. Buton gg Anggrek 5, Kedungsari\n",
            "\n"
          ]
        }
      ]
    },
    {
      "cell_type": "code",
      "source": [
        "print (\"Selamat datang di Toko Maju Jaya\")\n",
        "print (\"Senin, 4 September 2023  13.05\")\n",
        "print (\" \")\n",
        "\n",
        "print (\"DAFTAR BELANJA:\")\n",
        "item1 = 'Sabun'\n",
        "item2 = 'Shampo'\n",
        "item3 = 'Mie instant'\n",
        "item4 = 'Detergen'\n",
        "harga1 = '10000'\n",
        "harga2 = '15000'\n",
        "harga3 = '5000'\n",
        "harga4 = '17500'\n",
        "\n",
        "harga1 = int(harga1)\n",
        "harga2 = int(harga2)\n",
        "harga3 = int(harga3)\n",
        "harga4 = int(harga4)\n",
        "\n",
        "total = harga1+harga2+harga3+harga4\n",
        "\n",
        "print(item1 + \",    = Rp\" + str(harga1))\n",
        "print(item2 + \",    = Rp\" + str(harga2))\n",
        "print(item3 + \",    = Rp\" + str(harga3))\n",
        "print(item4 + \",    = Rp\" + str(harga4))\n",
        "\n",
        "print(\" \")\n",
        "print(\"Total = Rp \"+str(total))\n",
        "with open('Kuitansi.txt', 'w') as writefile:\n",
        "    writefile.write(\"Selamat Datang di Toko Maju Jaya\\n\")\n",
        "    writefile.write(\" \\n\")\n",
        "    writefile.write(\"Kuitansi - 4 Septermber 2023\\n\")\n",
        "    writefile.write(\" \\n\")\n",
        "    writefile.write(item1 + \" = Rp \" + str(harga1) + \"\\n\")\n",
        "    writefile.write(item2 + \" = Rp \" + str(harga2) + \"\\n\")\n",
        "    writefile.write(item3 + \" = Rp \" + str(harga3) + \"\\n\")\n",
        "    writefile.write(item4 + \" = Rp \" + str(harga4) + \"\\n\")\n",
        "    writefile.write(\" \\n\")\n",
        "    writefile.write(\"Total Belanja =\"+str(total))"
      ],
      "metadata": {
        "colab": {
          "base_uri": "https://localhost:8080/"
        },
        "id": "Y7BTr2c_gMkp",
        "outputId": "640de466-b20e-48a4-8d5d-d898d6339422"
      },
      "execution_count": 2,
      "outputs": [
        {
          "output_type": "stream",
          "name": "stdout",
          "text": [
            "Selamat datang di Toko Maju Jaya\n",
            "Senin, 4 September 2023  13.05\n",
            " \n",
            "DAFTAR BELANJA:\n",
            "Sabun,    = Rp10000\n",
            "Shampo,    = Rp15000\n",
            "Mie instant,    = Rp5000\n",
            "Detergen,    = Rp17500\n",
            " \n",
            "Total = Rp 47500\n"
          ]
        }
      ]
    },
    {
      "cell_type": "code",
      "source": [
        "!git config --global user.name \"KanahayaMeiliaSakti\"\n"
      ],
      "metadata": {
        "id": "kewwwzeylfwj"
      },
      "execution_count": 24,
      "outputs": []
    },
    {
      "cell_type": "code",
      "source": [
        "!git config --global user.email \"Kanahayameiliea@gmail.com\""
      ],
      "metadata": {
        "id": "gq9AJmCHnkUX"
      },
      "execution_count": 25,
      "outputs": []
    },
    {
      "cell_type": "code",
      "source": [
        "!ls"
      ],
      "metadata": {
        "colab": {
          "base_uri": "https://localhost:8080/"
        },
        "id": "X8ktVjgsgUgU",
        "outputId": "c27a1743-341e-480b-87e5-c5a3b8ce79bb"
      },
      "execution_count": 26,
      "outputs": [
        {
          "output_type": "stream",
          "name": "stdout",
          "text": [
            "anaya2.txt  anaya.txt  Kuitansi.txt  sample_data\n"
          ]
        }
      ]
    },
    {
      "cell_type": "code",
      "source": [
        "!pwd"
      ],
      "metadata": {
        "colab": {
          "base_uri": "https://localhost:8080/"
        },
        "id": "kko165xDgYlp",
        "outputId": "30cf48cf-2588-4de2-b16f-1b9e84ffab7d"
      },
      "execution_count": 28,
      "outputs": [
        {
          "output_type": "stream",
          "name": "stdout",
          "text": [
            "/content\n"
          ]
        }
      ]
    },
    {
      "cell_type": "code",
      "source": [
        "!echo “# Some dummy text” >> new.md"
      ],
      "metadata": {
        "id": "gIMgyGFLgjHq"
      },
      "execution_count": 29,
      "outputs": []
    },
    {
      "cell_type": "code",
      "source": [
        "%cd week03"
      ],
      "metadata": {
        "colab": {
          "base_uri": "https://localhost:8080/"
        },
        "id": "BY0SgrRwhnVN",
        "outputId": "2222c2cb-dfa2-4b00-9a52-3007bf10cb81"
      },
      "execution_count": 32,
      "outputs": [
        {
          "output_type": "stream",
          "name": "stdout",
          "text": [
            "/content/week03\n"
          ]
        }
      ]
    },
    {
      "cell_type": "code",
      "source": [
        "!pwd"
      ],
      "metadata": {
        "colab": {
          "base_uri": "https://localhost:8080/"
        },
        "id": "Nc2qoaQZhtGc",
        "outputId": "92afd9d5-e915-4fd8-fec9-fc77eac81cfb"
      },
      "execution_count": 33,
      "outputs": [
        {
          "output_type": "stream",
          "name": "stdout",
          "text": [
            "/content/week03\n"
          ]
        }
      ]
    },
    {
      "cell_type": "code",
      "source": [
        "!echo “# Some dummy text” >> new.md"
      ],
      "metadata": {
        "id": "yVTkkbZFhxqQ"
      },
      "execution_count": 34,
      "outputs": []
    },
    {
      "cell_type": "code",
      "source": [
        "!git status"
      ],
      "metadata": {
        "colab": {
          "base_uri": "https://localhost:8080/"
        },
        "id": "ueD_obsYh2bR",
        "outputId": "bf6d117a-ad09-4988-ed2f-21b5f7854e23"
      },
      "execution_count": 35,
      "outputs": [
        {
          "output_type": "stream",
          "name": "stdout",
          "text": [
            "On branch main\n",
            "\n",
            "No commits yet\n",
            "\n",
            "Untracked files:\n",
            "  (use \"git add <file>...\" to include in what will be committed)\n",
            "\t\u001b[31mnew.md\u001b[m\n",
            "\n",
            "nothing added to commit but untracked files present (use \"git add\" to track)\n"
          ]
        }
      ]
    },
    {
      "cell_type": "code",
      "source": [
        "!git add new.md"
      ],
      "metadata": {
        "id": "-1DbGqogh7Iw"
      },
      "execution_count": 36,
      "outputs": []
    },
    {
      "cell_type": "code",
      "source": [
        "! git commit -m \"Masyaallah h-1 lagi\""
      ],
      "metadata": {
        "colab": {
          "base_uri": "https://localhost:8080/"
        },
        "id": "mZsXGP3eh-bL",
        "outputId": "a5a8b90b-5617-43cf-d69e-2e02084d10c7"
      },
      "execution_count": 37,
      "outputs": [
        {
          "output_type": "stream",
          "name": "stdout",
          "text": [
            "[main (root-commit) c965026] Masyaallah h-1 lagi\n",
            " 1 file changed, 1 insertion(+)\n",
            " create mode 100644 new.md\n"
          ]
        }
      ]
    },
    {
      "cell_type": "code",
      "source": [
        "!git push"
      ],
      "metadata": {
        "colab": {
          "base_uri": "https://localhost:8080/"
        },
        "id": "KPEmHzUqiGk_",
        "outputId": "44438a10-1615-4895-ec08-6ed2f2b502a4"
      },
      "execution_count": 38,
      "outputs": [
        {
          "output_type": "stream",
          "name": "stdout",
          "text": [
            "Enumerating objects: 3, done.\n",
            "Counting objects:  33% (1/3)\rCounting objects:  66% (2/3)\rCounting objects: 100% (3/3)\rCounting objects: 100% (3/3), done.\n",
            "Writing objects:  33% (1/3)\rWriting objects:  66% (2/3)\rWriting objects: 100% (3/3)\rWriting objects: 100% (3/3), 249 bytes | 249.00 KiB/s, done.\n",
            "Total 3 (delta 0), reused 0 (delta 0), pack-reused 0\n",
            "To https://github.com/Kanahayameilia/week03.git\n",
            " * [new branch]      main -> main\n"
          ]
        }
      ]
    }
  ]
}